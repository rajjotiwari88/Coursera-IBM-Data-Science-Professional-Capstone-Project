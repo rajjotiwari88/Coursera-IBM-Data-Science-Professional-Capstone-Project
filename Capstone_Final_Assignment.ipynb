{
 "cells": [
  {
   "cell_type": "markdown",
   "metadata": {},
   "source": [
    "# LOCATION RECOMMENDATION FOR RESTAURANT USING FOURSQUARE API AND MACHINE LEARNING"
   ]
  },
  {
   "cell_type": "markdown",
   "metadata": {},
   "source": [
    "## 1.Introduction\n",
    "Choosing a location for your restaurant is one of just a few keys to profitability. Parking and accessibility can be as crucial to a restaurant's success as great food and service. There is a famous saying in real estate that also holds true for restaurants: \"You make your money when you buy.\"\n",
    "\n",
    "A restaurant's location influences many aspects of your operation, including the menu and style of the dining room. If you already have a certain restaurant location in mind, don’t get too attached until you know if it has all the right requirements for a successful restaurant.\n",
    "\n",
    "The classic real estate saying “location, location, location” applies to choosing a site for a new restaurant. Location influences the success or failure of a restaurant in a host of ways, from attracting enough initial customer interest to being convenient to visit. But the restaurant’s location is also interrelated to other factors, some of which are changeable, while others are not. A great restaurant location, for instance, must have an affordable rent, or it does not matter how much foot traffic the site receives.\n",
    "\n",
    "Unfortunately, many restaurants fail within three years, and a lack of planning contributes to this hard reality. Sometimes, restaurants that would be otherwise successful go out of business because they are inaccessible or unknown to their potential customers. As might be expected, visibility and accessibility have a disproportionate effect on new restaurants that are not established yet with a core of loyal customers. Before signing a lease, restaurant owners should not get carried away with any one location until they have done their homework on the location. You must be certain that when you choose a location you are using your head as much as your heart.\n",
    "\n",
    "We can mitigate this uncertainty through leveraging data gathered from FourSquare's API, specifically, we are able to scrape \"likes\" data of different restaurants directly from the API as well as their location and category of cuisine. The question we will try to address is, how accurately can we predict the amount of \"likes\" a new restaurant opening in this region can expect to have based on the type of cuisine it will serve and which city in it will open in. (For the purposes of this analysis, we will contain the geographical scope of analysis to three heavily populated cities in India, namely Delhi, Mumbai, and Bangalore). Leveraging this data will solve the problem as it allows the new business owner (or existing company) to make preemptive business decisions regarding opening the restaurant in terms of whether it is feasible to open one in this region and expect good social media presence, what type of cuisine and which city of three would be the best. This project will analyze and model the data via machine learning through comparing both linear and logistic regressions to see which method will yield better predictive capabilities after training and testing"
   ]
  },
  {
   "cell_type": "markdown",
   "metadata": {},
   "source": [
    "## 2.DATA\n",
    "Before we begin analysing the different cities for best location for opening a restraunt, we will first retrieve the geographical coordinates of the three cities (New Delhi, Mumbai and Bangalore). Then, we will use the FourSquare API to obtain URLs that'll fetch raw data in JSON form. We will scrape the raw data separately in these URLs in order to retrieve the following columns: \"name\", \"categories\", \"latitude\", \"longitude\". and \"id\" for each city. We can also provide another column (\"city\") to indicate which city the restaurants are from.\n",
    "\n",
    "The point to keep in mind here is that the extracts are not of every restaurant in those cities but rather all of the restaurants within a 5KM range of the geographical coordinates that geolocator was able to provide. However, the extraction from the FourSquare API actually obtains venue data so it will include venues other than restaurants such as malls, stores, libraries etc. As such, this means that the data will need to be further cleaned somewhat manually by removing all of the nonrestaurant rows. Once this is complete, we have a shortened by cleaned list to pull \"likes\" data.The \"id\" is an important column as it will allow us to further pull the \"likes\" from the API. We can retreive the \"likes\" based on the restaurant \"id\" and then append it to the data frame. Once this is complete, we finally name the dataframe 'raw_dataset' as it is the most complete compiled form before needing any processing for analysis via machine learning."
   ]
  },
  {
   "cell_type": "markdown",
   "metadata": {},
   "source": [
    "Importing the required dependencies."
   ]
  },
  {
   "cell_type": "code",
   "execution_count": 1,
   "metadata": {},
   "outputs": [
    {
     "name": "stdout",
     "output_type": "stream",
     "text": [
      "Collecting package metadata (current_repodata.json): done\n",
      "Solving environment: done\n",
      "\n",
      "# All requested packages already installed.\n",
      "\n",
      "Collecting package metadata (current_repodata.json): done\n",
      "Solving environment: done\n",
      "\n",
      "# All requested packages already installed.\n",
      "\n",
      "Collecting package metadata (current_repodata.json): done\n",
      "Solving environment: done\n",
      "\n",
      "# All requested packages already installed.\n",
      "\n",
      "Libraries imported.\n"
     ]
    }
   ],
   "source": [
    "import numpy as np\n",
    "import pandas as pd\n",
    "pd.set_option('display.max_columns', None)\n",
    "pd.set_option('display.max_rows', None)\n",
    "\n",
    "import json\n",
    "from pandas.io.json import json_normalize \n",
    "import requests\n",
    "\n",
    "!conda install -c conda-forge geopy --yes\n",
    "from geopy.geocoders import Nominatim\n",
    "!conda install -c conda-forge folium=0.5.0 --yes\n",
    "import folium \n",
    "!conda install -c conda-forge lxml --yes\n",
    "from sklearn.cluster import KMeans\n",
    "\n",
    "from pandas.io.json import json_normalize \n",
    "\n",
    "from sklearn import linear_model\n",
    "from sklearn.metrics import jaccard_similarity_score\n",
    "\n",
    "\n",
    "import folium \n",
    "\n",
    "from urllib.request import urlopen\n",
    "\n",
    "\n",
    "import matplotlib.pyplot as plt\n",
    "import pylab as pl\n",
    "\n",
    "from sklearn import linear_model\n",
    "from sklearn.metrics import jaccard_similarity_score\n",
    "from sklearn.linear_model import LogisticRegression\n",
    "from sklearn.metrics import confusion_matrix\n",
    "from sklearn.metrics import classification_report, confusion_matrix\n",
    "from sklearn.metrics import log_loss\n",
    "from sklearn.metrics import r2_score\n",
    "from sklearn.metrics import mean_squared_error, r2_score\n",
    "import itertools\n",
    "\n",
    "\n",
    "print('Libraries imported.')"
   ]
  },
  {
   "cell_type": "markdown",
   "metadata": {},
   "source": [
    "Data extraction and cleaning."
   ]
  },
  {
   "cell_type": "code",
   "execution_count": 2,
   "metadata": {},
   "outputs": [
    {
     "name": "stdout",
     "output_type": "stream",
     "text": [
      "coordinates of Delhi,India are 28.6517178 and 77.2219388 \n"
     ]
    }
   ],
   "source": [
    "#getting coordinates of the address\n",
    "address1='Delhi,India'\n",
    "location1=Nominatim(user_agent='explorer').geocode(address1)\n",
    "latitude1=location1.latitude\n",
    "longitude1=location1.longitude\n",
    "print(\"coordinates of {} are {} and {} \".format(address1,latitude1,longitude1))"
   ]
  },
  {
   "cell_type": "code",
   "execution_count": 3,
   "metadata": {},
   "outputs": [
    {
     "name": "stdout",
     "output_type": "stream",
     "text": [
      "coordinates of Mumbai,India are 19.0759899 and 72.8773928 \n"
     ]
    }
   ],
   "source": [
    "#getting coordinates of the address\n",
    "address2='Mumbai,India'\n",
    "location2=Nominatim(user_agent='explorer').geocode(address2)\n",
    "latitude2=location2.latitude\n",
    "longitude2=location2.longitude\n",
    "\n",
    "print(\"coordinates of {} are {} and {} \".format(address2,latitude2,longitude2))"
   ]
  },
  {
   "cell_type": "code",
   "execution_count": 4,
   "metadata": {},
   "outputs": [
    {
     "name": "stdout",
     "output_type": "stream",
     "text": [
      "coordinates of Bangalore,India are 12.9791198 and 77.5912997 \n"
     ]
    }
   ],
   "source": [
    "#getting coordinates of the address\n",
    "address3='Bangalore,India'\n",
    "location3=Nominatim(user_agent='explorer').geocode(address3)\n",
    "latitude3=location3.latitude\n",
    "longitude3=location3.longitude\n",
    "print(\"coordinates of {} are {} and {} \".format(address3,latitude3,longitude3))"
   ]
  },
  {
   "cell_type": "code",
   "execution_count": 5,
   "metadata": {},
   "outputs": [
    {
     "name": "stdout",
     "output_type": "stream",
     "text": [
      "Your credentails:\n",
      "CLIENT_ID: TY0WLCQ0TKVZAHMLJPUBQTOA13CUSUKISFXRUJUCSWYLBMUE\n",
      "CLIENT_SECRET:0FCCSGD3JSNG0KGOFDOZ1CPI2YXS0UHAWSNO4AJXWSOAAHLL\n"
     ]
    }
   ],
   "source": [
    "# define foursquare credentials and version\n",
    "CLIENT_ID = 'TY0WLCQ0TKVZAHMLJPUBQTOA13CUSUKISFXRUJUCSWYLBMUE' # your Foursquare ID\n",
    "CLIENT_SECRET = '0FCCSGD3JSNG0KGOFDOZ1CPI2YXS0UHAWSNO4AJXWSOAAHLL' # your Foursquare Secret\n",
    "VERSION = '20180604'\n",
    "LIMIT=500\n",
    "\n",
    "print('Your credentails:')\n",
    "print('CLIENT_ID: ' + CLIENT_ID)\n",
    "print('CLIENT_SECRET:' + CLIENT_SECRET)\n"
   ]
  },
  {
   "cell_type": "code",
   "execution_count": 33,
   "metadata": {},
   "outputs": [
    {
     "name": "stdout",
     "output_type": "stream",
     "text": [
      "https://api.foursquare.com/v2/venues/explore?&client_id=TY0WLCQ0TKVZAHMLJPUBQTOA13CUSUKISFXRUJUCSWYLBMUE&client_secret=0FCCSGD3JSNG0KGOFDOZ1CPI2YXS0UHAWSNO4AJXWSOAAHLL&v=20180604&ll=28.6517178,77.2219388&radius=5000&limit=100 https://api.foursquare.com/v2/venues/explore?&client_id=TY0WLCQ0TKVZAHMLJPUBQTOA13CUSUKISFXRUJUCSWYLBMUE&client_secret=0FCCSGD3JSNG0KGOFDOZ1CPI2YXS0UHAWSNO4AJXWSOAAHLL&v=20180604&ll=19.0759899,72.8773928&radius=5000&limit=100 https://api.foursquare.com/v2/venues/explore?&client_id=TY0WLCQ0TKVZAHMLJPUBQTOA13CUSUKISFXRUJUCSWYLBMUE&client_secret=0FCCSGD3JSNG0KGOFDOZ1CPI2YXS0UHAWSNO4AJXWSOAAHLL&v=20180604&ll=12.9791198,77.5912997&radius=5000&limit=100\n"
     ]
    }
   ],
   "source": [
    "LIMIT = 100 # limit of number of venues returned by Foursquare API\n",
    "radius = 5000 # define radius\n",
    "\n",
    "# create URLs\n",
    "url1 = 'https://api.foursquare.com/v2/venues/explore?&client_id={}&client_secret={}&v={}&ll={},{}&radius={}&limit={}'.format(\n",
    "    CLIENT_ID, \n",
    "    CLIENT_SECRET, \n",
    "    VERSION, \n",
    "    latitude1, \n",
    "    longitude1, \n",
    "    radius, \n",
    "    LIMIT)\n",
    "\n",
    "url2 = 'https://api.foursquare.com/v2/venues/explore?&client_id={}&client_secret={}&v={}&ll={},{}&radius={}&limit={}'.format(\n",
    "    CLIENT_ID, \n",
    "    CLIENT_SECRET, \n",
    "    VERSION, \n",
    "    latitude2, \n",
    "    longitude2, \n",
    "    radius, \n",
    "    LIMIT)\n",
    "\n",
    "url3 = 'https://api.foursquare.com/v2/venues/explore?&client_id={}&client_secret={}&v={}&ll={},{}&radius={}&limit={}'.format(\n",
    "    CLIENT_ID, \n",
    "    CLIENT_SECRET, \n",
    "    VERSION, \n",
    "    latitude3, \n",
    "    longitude3, \n",
    "    radius, \n",
    "    LIMIT)\n",
    "\n",
    "print(url1, url2, url3)"
   ]
  },
  {
   "cell_type": "code",
   "execution_count": 34,
   "metadata": {},
   "outputs": [
    {
     "name": "stdout",
     "output_type": "stream",
     "text": [
      "100 venues were returned by Foursquare.\n",
      "100 venues were returned by Foursquare.\n",
      "100 venues were returned by Foursquare.\n"
     ]
    }
   ],
   "source": [
    "# scrape the data from the generated URLs\n",
    "results1 = requests.get(url1).json()\n",
    "results1\n",
    "\n",
    "results2 = requests.get(url2).json()\n",
    "results2\n",
    "\n",
    "results3 = requests.get(url3).json()\n",
    "results3\n",
    "\n",
    "# function that extracts the category of the venue\n",
    "def get_category_type(row):\n",
    "    try:\n",
    "        categories_list = row['categories']\n",
    "    except:\n",
    "        categories_list = row['venue.categories']\n",
    "        \n",
    "    if len(categories_list) == 0:\n",
    "        return None\n",
    "    else:\n",
    "        return categories_list[0]['name']\n",
    "    \n",
    "### first city ###    \n",
    "    \n",
    "venues1 = results1['response']['groups'][0]['items']\n",
    "nearby_venues1 = pd.json_normalize(venues1) # flatten JSON\n",
    "\n",
    "# filter columns\n",
    "filtered_columns1 = ['venue.name', 'venue.categories', 'venue.location.lat', \n",
    "                    'venue.location.lng', 'venue.id']\n",
    "nearby_venues1 =nearby_venues1.loc[:, filtered_columns1]\n",
    "\n",
    "# filter the category for each row\n",
    "nearby_venues1['venue.categories'] = nearby_venues1.apply(get_category_type, axis=1)\n",
    "\n",
    "# clean columns\n",
    "nearby_venues1.columns = [col.split(\".\")[-1] for col in nearby_venues1.columns]\n",
    "\n",
    "\n",
    "### second city ###\n",
    "\n",
    "venues2 = results2['response']['groups'][0]['items']\n",
    "nearby_venues2 =pd.json_normalize(venues2) # flatten JSON\n",
    "\n",
    "# filter columns\n",
    "filtered_columns2 = ['venue.name', 'venue.categories', 'venue.location.lat', \n",
    "                    'venue.location.lng', 'venue.id']\n",
    "nearby_venues2 =nearby_venues2.loc[:, filtered_columns2]\n",
    "\n",
    "# filter the category for each row\n",
    "nearby_venues2['venue.categories'] = nearby_venues2.apply(get_category_type, axis=1)\n",
    "\n",
    "# clean columns\n",
    "nearby_venues2.columns = [col.split(\".\")[-1] for col in nearby_venues2.columns]\n",
    "\n",
    "\n",
    "### third city ###\n",
    "\n",
    "venues3 = results3['response']['groups'][0]['items']\n",
    "nearby_venues3 = pd.json_normalize(venues3) # flatten JSON\n",
    "\n",
    "# filter columns\n",
    "filtered_columns3 = ['venue.name', 'venue.categories', 'venue.location.lat', \n",
    "                    'venue.location.lng', 'venue.id']\n",
    "nearby_venues3 =nearby_venues3.loc[:, filtered_columns3]\n",
    "\n",
    "# filter the category for each row\n",
    "nearby_venues3['venue.categories'] = nearby_venues3.apply(get_category_type, axis=1)\n",
    "\n",
    "# clean columns\n",
    "nearby_venues3.columns = [col.split(\".\")[-1] for col in nearby_venues3.columns]\n",
    "\n",
    "\n",
    "\n",
    "\n",
    "\n",
    "print('{} venues were returned by Foursquare.'.format(nearby_venues1.shape[0]))\n",
    "print('{} venues were returned by Foursquare.'.format(nearby_venues2.shape[0]))\n",
    "print('{} venues were returned by Foursquare.'.format(nearby_venues3.shape[0]))"
   ]
  },
  {
   "cell_type": "code",
   "execution_count": 35,
   "metadata": {},
   "outputs": [],
   "source": [
    "# add locations data to the data sets of each city\n",
    "\n",
    "nearby_venues1['city'] = 'Delhi'\n",
    "nearby_venues2['city'] = 'Mumbai'\n",
    "nearby_venues3['city'] = 'Bangalore'"
   ]
  },
  {
   "cell_type": "code",
   "execution_count": 36,
   "metadata": {},
   "outputs": [
    {
     "data": {
      "text/html": [
       "<div>\n",
       "<style scoped>\n",
       "    .dataframe tbody tr th:only-of-type {\n",
       "        vertical-align: middle;\n",
       "    }\n",
       "\n",
       "    .dataframe tbody tr th {\n",
       "        vertical-align: top;\n",
       "    }\n",
       "\n",
       "    .dataframe thead th {\n",
       "        text-align: right;\n",
       "    }\n",
       "</style>\n",
       "<table border=\"1\" class=\"dataframe\">\n",
       "  <thead>\n",
       "    <tr style=\"text-align: right;\">\n",
       "      <th></th>\n",
       "      <th>name</th>\n",
       "      <th>categories</th>\n",
       "      <th>lat</th>\n",
       "      <th>lng</th>\n",
       "      <th>id</th>\n",
       "      <th>city</th>\n",
       "    </tr>\n",
       "  </thead>\n",
       "  <tbody>\n",
       "    <tr>\n",
       "      <th>0</th>\n",
       "      <td>Amritsari Lassi Wala</td>\n",
       "      <td>Snack Place</td>\n",
       "      <td>28.657325</td>\n",
       "      <td>77.224138</td>\n",
       "      <td>5662936e498e19a9801a663f</td>\n",
       "      <td>Delhi</td>\n",
       "    </tr>\n",
       "    <tr>\n",
       "      <th>1</th>\n",
       "      <td>Naturals Ice Cream</td>\n",
       "      <td>Ice Cream Shop</td>\n",
       "      <td>28.634455</td>\n",
       "      <td>77.222139</td>\n",
       "      <td>54783eab498e910f8bd1781d</td>\n",
       "      <td>Delhi</td>\n",
       "    </tr>\n",
       "    <tr>\n",
       "      <th>2</th>\n",
       "      <td>Karim's | करीम | کریم (Karim's)</td>\n",
       "      <td>Indian Restaurant</td>\n",
       "      <td>28.649498</td>\n",
       "      <td>77.233691</td>\n",
       "      <td>4b42e3c7f964a520b5da25e3</td>\n",
       "      <td>Delhi</td>\n",
       "    </tr>\n",
       "    <tr>\n",
       "      <th>3</th>\n",
       "      <td>Haveli Dharampura</td>\n",
       "      <td>Hotel</td>\n",
       "      <td>28.653247</td>\n",
       "      <td>77.232309</td>\n",
       "      <td>56d96bfc498e2749a4ae6bf6</td>\n",
       "      <td>Delhi</td>\n",
       "    </tr>\n",
       "    <tr>\n",
       "      <th>4</th>\n",
       "      <td>Jolly Creations Designer Boutique</td>\n",
       "      <td>Boutique</td>\n",
       "      <td>28.662689</td>\n",
       "      <td>77.226300</td>\n",
       "      <td>4fe1cd59e4b00017d7fcbd78</td>\n",
       "      <td>Delhi</td>\n",
       "    </tr>\n",
       "  </tbody>\n",
       "</table>\n",
       "</div>"
      ],
      "text/plain": [
       "                                name         categories        lat        lng  \\\n",
       "0               Amritsari Lassi Wala        Snack Place  28.657325  77.224138   \n",
       "1                 Naturals Ice Cream     Ice Cream Shop  28.634455  77.222139   \n",
       "2    Karim's | करीम | کریم (Karim's)  Indian Restaurant  28.649498  77.233691   \n",
       "3                  Haveli Dharampura              Hotel  28.653247  77.232309   \n",
       "4  Jolly Creations Designer Boutique           Boutique  28.662689  77.226300   \n",
       "\n",
       "                         id   city  \n",
       "0  5662936e498e19a9801a663f  Delhi  \n",
       "1  54783eab498e910f8bd1781d  Delhi  \n",
       "2  4b42e3c7f964a520b5da25e3  Delhi  \n",
       "3  56d96bfc498e2749a4ae6bf6  Delhi  \n",
       "4  4fe1cd59e4b00017d7fcbd78  Delhi  "
      ]
     },
     "execution_count": 36,
     "metadata": {},
     "output_type": "execute_result"
    }
   ],
   "source": [
    "\n",
    "# combine the three cities into one data set\n",
    "\n",
    "nearby_venues = nearby_venues1.copy()\n",
    "nearby_venues = nearby_venues.append(nearby_venues2)\n",
    "nearby_venues = nearby_venues.append(nearby_venues3)\n",
    "nearby_venues.head()\n"
   ]
  },
  {
   "cell_type": "code",
   "execution_count": 37,
   "metadata": {},
   "outputs": [
    {
     "data": {
      "text/plain": [
       "array(['Snack Place', 'Ice Cream Shop', 'Indian Restaurant', 'Hotel',\n",
       "       'Boutique', 'Bakery', 'Plaza', 'South Indian Restaurant',\n",
       "       'Coffee Shop', 'Tibetan Restaurant', 'Lounge', 'Clothing Store',\n",
       "       'Monument / Landmark', 'Molecular Gastronomy Restaurant',\n",
       "       'Food Truck', 'Restaurant', 'Deli / Bodega', 'Bistro', 'Bar',\n",
       "       'Café', 'Asian Restaurant', 'Smoke Shop', 'Theater',\n",
       "       'North Indian Restaurant', 'Spa', 'Spiritual Center',\n",
       "       'Art Gallery', 'Arcade', 'Art Museum', 'Dessert Shop',\n",
       "       'Sculpture Garden', 'Fast Food Restaurant', 'Donut Shop',\n",
       "       'Playground', 'BBQ Joint', 'Concert Hall', 'Music Venue',\n",
       "       'Pizza Place', 'Sandwich Place', 'Breakfast Spot',\n",
       "       'History Museum', 'Food & Drink Shop', 'Cricket Ground',\n",
       "       'Chinese Restaurant', 'Road', 'Stadium', 'Performing Arts Venue',\n",
       "       'Hockey Arena', 'Miscellaneous Shop', 'Dumpling Restaurant',\n",
       "       'Vegetarian / Vegan Restaurant', 'Toy / Game Store',\n",
       "       'Movie Theater', 'Gym Pool', 'Italian Restaurant',\n",
       "       'Dim Sum Restaurant', 'Irani Cafe', 'Airport Service',\n",
       "       'Beer Garden', 'American Restaurant', 'Shopping Mall',\n",
       "       'Goan Restaurant', 'Gym', 'Noodle House', 'Punjabi Restaurant',\n",
       "       'Bagel Shop', 'Thai Restaurant', 'Sports Club',\n",
       "       'Seafood Restaurant', 'Hookah Bar', 'Brewery',\n",
       "       'Modern European Restaurant', 'Gym / Fitness Center', 'Park',\n",
       "       'Tea Room', 'Burger Joint', 'Japanese Restaurant',\n",
       "       'French Restaurant', 'Sushi Restaurant', 'Steakhouse',\n",
       "       'Cupcake Shop', 'Furniture / Home Store', 'Bookstore', 'Racetrack',\n",
       "       'Afghan Restaurant', 'Pub', 'Cocktail Bar', 'Fried Chicken Joint',\n",
       "       'Andhra Restaurant', 'Soccer Stadium', 'Bed & Breakfast',\n",
       "       'Department Store', 'Eastern European Restaurant',\n",
       "       'Botanical Garden', 'Juice Bar', 'Mediterranean Restaurant'],\n",
       "      dtype=object)"
      ]
     },
     "execution_count": 37,
     "metadata": {},
     "output_type": "execute_result"
    }
   ],
   "source": [
    "# check list and manually remove all non-restaurant data\n",
    "nearby_venues['categories'].unique()\n"
   ]
  },
  {
   "cell_type": "code",
   "execution_count": 38,
   "metadata": {},
   "outputs": [
    {
     "data": {
      "text/plain": [
       "array(['Snack Place', 'Ice Cream Shop', 'Indian Restaurant', 'Bakery',\n",
       "       'South Indian Restaurant', 'Coffee Shop', 'Tibetan Restaurant',\n",
       "       'Monument / Landmark', 'Molecular Gastronomy Restaurant',\n",
       "       'Food Truck', 'Restaurant', 'Deli / Bodega', 'Bistro', 'Café',\n",
       "       'Asian Restaurant', 'Smoke Shop', 'Theater',\n",
       "       'North Indian Restaurant', 'Spiritual Center', 'Art Gallery',\n",
       "       'Dessert Shop', 'Sculpture Garden', 'Fast Food Restaurant',\n",
       "       'Donut Shop', 'Playground', 'BBQ Joint', 'Music Venue',\n",
       "       'Pizza Place', 'Sandwich Place', 'Breakfast Spot',\n",
       "       'History Museum', 'Food & Drink Shop', 'Chinese Restaurant',\n",
       "       'Stadium', 'Hockey Arena', 'Miscellaneous Shop',\n",
       "       'Dumpling Restaurant', 'Vegetarian / Vegan Restaurant',\n",
       "       'Movie Theater', 'Gym Pool', 'Italian Restaurant',\n",
       "       'Dim Sum Restaurant', 'Irani Cafe', 'Airport Service',\n",
       "       'Beer Garden', 'American Restaurant', 'Goan Restaurant',\n",
       "       'Noodle House', 'Punjabi Restaurant', 'Bagel Shop',\n",
       "       'Thai Restaurant', 'Sports Club', 'Seafood Restaurant',\n",
       "       'Hookah Bar', 'Modern European Restaurant', 'Gym / Fitness Center',\n",
       "       'Tea Room', 'Burger Joint', 'Japanese Restaurant',\n",
       "       'French Restaurant', 'Sushi Restaurant', 'Steakhouse',\n",
       "       'Cupcake Shop', 'Afghan Restaurant', 'Cocktail Bar',\n",
       "       'Fried Chicken Joint', 'Andhra Restaurant', 'Soccer Stadium',\n",
       "       'Bed & Breakfast', 'Eastern European Restaurant',\n",
       "       'Botanical Garden', 'Juice Bar', 'Mediterranean Restaurant'],\n",
       "      dtype=object)"
      ]
     },
     "execution_count": 38,
     "metadata": {},
     "output_type": "execute_result"
    }
   ],
   "source": [
    "removal_list = ['Hotel','Boutique','Hardware Store','Mosque','Market','Paper / Office Supplies Store','Hostel','Motel',\n",
    "                'Flea Market','Light Rail Station','Jewelry Store','Platform','Train Station','Road','Campground','Theme Park',\n",
    "                'Bar','Deli/Bodega','Lounge','Department Store','Spa','Performing Arts Venue','Gym','Shopping Mall','Bus Station',\n",
    "                'Electronic Store','Park','Cricket Ground','Clothing Store','Racetrack','Furniture/Home Store','Plaza','Brewery',\n",
    "                'Toy/Game Store','Pub','Golf Course','Hotel Bar','Art Museum','Concert Hall','Nightclub','Arcade','Wine Bar','Bookstore',\n",
    "                'Pool Hall','Electronics Store','Furniture / Home Store','Toy / Game Store']\n",
    "nearby_venues = nearby_venues[~nearby_venues['categories'].isin(removal_list)]\n",
    "\n",
    "nearby_venues['categories'].unique()"
   ]
  },
  {
   "cell_type": "code",
   "execution_count": 39,
   "metadata": {},
   "outputs": [
    {
     "name": "stdout",
     "output_type": "stream",
     "text": [
      "[6, 48, 316, 34, 174, 99, 38, 374, 15, 178, 53, 250, 89, 28, 6, 25, 37, 22, 85, 8, 31, 8, 15, 10, 7, 26, 51, 24, 12, 9, 48, 13, 23, 8, 9, 87, 31, 5, 9, 7, 12, 13, 107, 11, 4, 42, 6, 48, 415, 9, 7, 6, 7, 18, 8, 81, 17, 19, 10, 17, 87, 11, 14, 31, 7, 5, 11, 4, 4, 10, 44, 6, 6, 16, 10, 60, 4, 16, 124, 95, 285, 6, 112, 23, 78, 22, 58, 191, 14, 70, 10, 10, 8, 17, 97, 11, 10, 14, 103, 225, 12, 61, 7, 13, 8, 26, 22, 24, 10, 12, 13, 14, 18, 22, 162, 21, 66, 7, 29, 7, 14, 8, 19, 7, 33, 6, 14, 27, 16, 15, 8, 8, 16, 23, 37, 17, 207, 164, 12, 14, 9, 42, 30, 242, 15, 7, 17, 13, 21, 17, 10, 83, 126, 111, 127, 266, 483, 140, 163, 59, 16, 48, 126, 11, 230, 43, 34, 56, 14, 54, 9, 60, 12, 99, 85, 15, 133, 25, 24, 15, 12, 40, 11, 105, 29, 207, 189, 37, 27, 17, 58, 29, 19, 8, 16, 169, 11, 8, 67, 7, 6, 41, 15, 175, 24, 62, 11, 19, 12, 13, 23, 37, 6, 64, 10, 24, 11, 22]\n"
     ]
    },
    {
     "data": {
      "text/html": [
       "<div>\n",
       "<style scoped>\n",
       "    .dataframe tbody tr th:only-of-type {\n",
       "        vertical-align: middle;\n",
       "    }\n",
       "\n",
       "    .dataframe tbody tr th {\n",
       "        vertical-align: top;\n",
       "    }\n",
       "\n",
       "    .dataframe thead th {\n",
       "        text-align: right;\n",
       "    }\n",
       "</style>\n",
       "<table border=\"1\" class=\"dataframe\">\n",
       "  <thead>\n",
       "    <tr style=\"text-align: right;\">\n",
       "      <th></th>\n",
       "      <th>name</th>\n",
       "      <th>categories</th>\n",
       "      <th>lat</th>\n",
       "      <th>lng</th>\n",
       "      <th>id</th>\n",
       "      <th>city</th>\n",
       "      <th>likes</th>\n",
       "    </tr>\n",
       "  </thead>\n",
       "  <tbody>\n",
       "    <tr>\n",
       "      <th>0</th>\n",
       "      <td>Amritsari Lassi Wala</td>\n",
       "      <td>Snack Place</td>\n",
       "      <td>28.657325</td>\n",
       "      <td>77.224138</td>\n",
       "      <td>5662936e498e19a9801a663f</td>\n",
       "      <td>Delhi</td>\n",
       "      <td>6</td>\n",
       "    </tr>\n",
       "    <tr>\n",
       "      <th>1</th>\n",
       "      <td>Naturals Ice Cream</td>\n",
       "      <td>Ice Cream Shop</td>\n",
       "      <td>28.634455</td>\n",
       "      <td>77.222139</td>\n",
       "      <td>54783eab498e910f8bd1781d</td>\n",
       "      <td>Delhi</td>\n",
       "      <td>48</td>\n",
       "    </tr>\n",
       "    <tr>\n",
       "      <th>2</th>\n",
       "      <td>Karim's | करीम | کریم (Karim's)</td>\n",
       "      <td>Indian Restaurant</td>\n",
       "      <td>28.649498</td>\n",
       "      <td>77.233691</td>\n",
       "      <td>4b42e3c7f964a520b5da25e3</td>\n",
       "      <td>Delhi</td>\n",
       "      <td>316</td>\n",
       "    </tr>\n",
       "    <tr>\n",
       "      <th>6</th>\n",
       "      <td>Kake Di Hatti | काके दी हट्टी</td>\n",
       "      <td>Indian Restaurant</td>\n",
       "      <td>28.658050</td>\n",
       "      <td>77.223377</td>\n",
       "      <td>4d9d759348b6224b70c2249f</td>\n",
       "      <td>Delhi</td>\n",
       "      <td>34</td>\n",
       "    </tr>\n",
       "    <tr>\n",
       "      <th>7</th>\n",
       "      <td>Wenger's</td>\n",
       "      <td>Bakery</td>\n",
       "      <td>28.633412</td>\n",
       "      <td>77.218292</td>\n",
       "      <td>4e4e44902271a1bdc3ccee8d</td>\n",
       "      <td>Delhi</td>\n",
       "      <td>174</td>\n",
       "    </tr>\n",
       "  </tbody>\n",
       "</table>\n",
       "</div>"
      ],
      "text/plain": [
       "                              name         categories        lat        lng  \\\n",
       "0             Amritsari Lassi Wala        Snack Place  28.657325  77.224138   \n",
       "1               Naturals Ice Cream     Ice Cream Shop  28.634455  77.222139   \n",
       "2  Karim's | करीम | کریم (Karim's)  Indian Restaurant  28.649498  77.233691   \n",
       "6    Kake Di Hatti | काके दी हट्टी  Indian Restaurant  28.658050  77.223377   \n",
       "7                         Wenger's             Bakery  28.633412  77.218292   \n",
       "\n",
       "                         id   city  likes  \n",
       "0  5662936e498e19a9801a663f  Delhi      6  \n",
       "1  54783eab498e910f8bd1781d  Delhi     48  \n",
       "2  4b42e3c7f964a520b5da25e3  Delhi    316  \n",
       "6  4d9d759348b6224b70c2249f  Delhi     34  \n",
       "7  4e4e44902271a1bdc3ccee8d  Delhi    174  "
      ]
     },
     "execution_count": 39,
     "metadata": {},
     "output_type": "execute_result"
    }
   ],
   "source": [
    "# set up to pull the likes from the API based on venue ID\n",
    "url_list = []\n",
    "like_list = []\n",
    "json_list = []\n",
    "\n",
    "for i in list(nearby_venues.id):\n",
    "    venue_url = 'https://api.foursquare.com/v2/venues/{}/likes?client_id={}&client_secret={}&v={}'.format(i, CLIENT_ID, CLIENT_SECRET, VERSION)\n",
    "    url_list.append(venue_url)\n",
    "for link in url_list:\n",
    "    result = requests.get(link).json()\n",
    "    likes = result['response']['likes']['count']\n",
    "    like_list.append(likes)\n",
    "print(like_list)\n",
    "\n",
    "\n",
    "nearby_venues['likes'] = like_list\n",
    "nearby_venues.head()"
   ]
  },
  {
   "cell_type": "code",
   "execution_count": 40,
   "metadata": {},
   "outputs": [
    {
     "data": {
      "text/html": [
       "<div>\n",
       "<style scoped>\n",
       "    .dataframe tbody tr th:only-of-type {\n",
       "        vertical-align: middle;\n",
       "    }\n",
       "\n",
       "    .dataframe tbody tr th {\n",
       "        vertical-align: top;\n",
       "    }\n",
       "\n",
       "    .dataframe thead th {\n",
       "        text-align: right;\n",
       "    }\n",
       "</style>\n",
       "<table border=\"1\" class=\"dataframe\">\n",
       "  <thead>\n",
       "    <tr style=\"text-align: right;\">\n",
       "      <th></th>\n",
       "      <th>name</th>\n",
       "      <th>categories</th>\n",
       "      <th>lat</th>\n",
       "      <th>lng</th>\n",
       "      <th>id</th>\n",
       "      <th>city</th>\n",
       "      <th>likes</th>\n",
       "    </tr>\n",
       "  </thead>\n",
       "  <tbody>\n",
       "    <tr>\n",
       "      <th>0</th>\n",
       "      <td>Amritsari Lassi Wala</td>\n",
       "      <td>Snack Place</td>\n",
       "      <td>28.657325</td>\n",
       "      <td>77.224138</td>\n",
       "      <td>5662936e498e19a9801a663f</td>\n",
       "      <td>Delhi</td>\n",
       "      <td>6</td>\n",
       "    </tr>\n",
       "    <tr>\n",
       "      <th>1</th>\n",
       "      <td>Naturals Ice Cream</td>\n",
       "      <td>Ice Cream Shop</td>\n",
       "      <td>28.634455</td>\n",
       "      <td>77.222139</td>\n",
       "      <td>54783eab498e910f8bd1781d</td>\n",
       "      <td>Delhi</td>\n",
       "      <td>48</td>\n",
       "    </tr>\n",
       "    <tr>\n",
       "      <th>2</th>\n",
       "      <td>Karim's | करीम | کریم (Karim's)</td>\n",
       "      <td>Indian Restaurant</td>\n",
       "      <td>28.649498</td>\n",
       "      <td>77.233691</td>\n",
       "      <td>4b42e3c7f964a520b5da25e3</td>\n",
       "      <td>Delhi</td>\n",
       "      <td>316</td>\n",
       "    </tr>\n",
       "    <tr>\n",
       "      <th>6</th>\n",
       "      <td>Kake Di Hatti | काके दी हट्टी</td>\n",
       "      <td>Indian Restaurant</td>\n",
       "      <td>28.658050</td>\n",
       "      <td>77.223377</td>\n",
       "      <td>4d9d759348b6224b70c2249f</td>\n",
       "      <td>Delhi</td>\n",
       "      <td>34</td>\n",
       "    </tr>\n",
       "    <tr>\n",
       "      <th>7</th>\n",
       "      <td>Wenger's</td>\n",
       "      <td>Bakery</td>\n",
       "      <td>28.633412</td>\n",
       "      <td>77.218292</td>\n",
       "      <td>4e4e44902271a1bdc3ccee8d</td>\n",
       "      <td>Delhi</td>\n",
       "      <td>174</td>\n",
       "    </tr>\n",
       "  </tbody>\n",
       "</table>\n",
       "</div>"
      ],
      "text/plain": [
       "                              name         categories        lat        lng  \\\n",
       "0             Amritsari Lassi Wala        Snack Place  28.657325  77.224138   \n",
       "1               Naturals Ice Cream     Ice Cream Shop  28.634455  77.222139   \n",
       "2  Karim's | करीम | کریم (Karim's)  Indian Restaurant  28.649498  77.233691   \n",
       "6    Kake Di Hatti | काके दी हट्टी  Indian Restaurant  28.658050  77.223377   \n",
       "7                         Wenger's             Bakery  28.633412  77.218292   \n",
       "\n",
       "                         id   city  likes  \n",
       "0  5662936e498e19a9801a663f  Delhi      6  \n",
       "1  54783eab498e910f8bd1781d  Delhi     48  \n",
       "2  4b42e3c7f964a520b5da25e3  Delhi    316  \n",
       "6  4d9d759348b6224b70c2249f  Delhi     34  \n",
       "7  4e4e44902271a1bdc3ccee8d  Delhi    174  "
      ]
     },
     "execution_count": 40,
     "metadata": {},
     "output_type": "execute_result"
    }
   ],
   "source": [
    "# this is really the raw dataset now so let us rename it something more appropriate\n",
    "\n",
    "raw_dataset = nearby_venues\n",
    "raw_dataset.head()"
   ]
  },
  {
   "cell_type": "markdown",
   "metadata": {},
   "source": [
    "### 2.1Preparing Data\n",
    "The data needs further processing before model training and testing.The \"categories\" column contains too many different types of cuisines to yield any meaningful results.All of the different types of cuisine could be reclassified as European,American, Asian, drinking establishments (bars), or casual establishments such as coffee shops or ice cream parlours. We can implement manual classification as there really aren't that many different types of cuisines. As this project will compare both linear and logistic regression, it makes sense to have \"likes\" as both a continuous and categorical (but ordinal) variable. In the case of turning into a categorical variable, we can bin the data based on percentiles and classify them into these ordinal percentile categories.As the last stage of data preparation, it is important to note that the regressors are categorical variables (3 different cities and 6 different categories of cuisines). Hence, they require dummy variable encoding for meaningful analysis. We can accomplish this via one-hot encoding."
   ]
  },
  {
   "cell_type": "code",
   "execution_count": 41,
   "metadata": {},
   "outputs": [
    {
     "data": {
      "text/plain": [
       "array(['Snack Place', 'Ice Cream Shop', 'Indian Restaurant', 'Bakery',\n",
       "       'South Indian Restaurant', 'Coffee Shop', 'Tibetan Restaurant',\n",
       "       'Monument / Landmark', 'Molecular Gastronomy Restaurant',\n",
       "       'Food Truck', 'Restaurant', 'Deli / Bodega', 'Bistro', 'Café',\n",
       "       'Asian Restaurant', 'Smoke Shop', 'Theater',\n",
       "       'North Indian Restaurant', 'Spiritual Center', 'Art Gallery',\n",
       "       'Dessert Shop', 'Sculpture Garden', 'Fast Food Restaurant',\n",
       "       'Donut Shop', 'Playground', 'BBQ Joint', 'Music Venue',\n",
       "       'Pizza Place', 'Sandwich Place', 'Breakfast Spot',\n",
       "       'History Museum', 'Food & Drink Shop', 'Chinese Restaurant',\n",
       "       'Stadium', 'Hockey Arena', 'Miscellaneous Shop',\n",
       "       'Dumpling Restaurant', 'Vegetarian / Vegan Restaurant',\n",
       "       'Movie Theater', 'Gym Pool', 'Italian Restaurant',\n",
       "       'Dim Sum Restaurant', 'Irani Cafe', 'Airport Service',\n",
       "       'Beer Garden', 'American Restaurant', 'Goan Restaurant',\n",
       "       'Noodle House', 'Punjabi Restaurant', 'Bagel Shop',\n",
       "       'Thai Restaurant', 'Sports Club', 'Seafood Restaurant',\n",
       "       'Hookah Bar', 'Modern European Restaurant', 'Gym / Fitness Center',\n",
       "       'Tea Room', 'Burger Joint', 'Japanese Restaurant',\n",
       "       'French Restaurant', 'Sushi Restaurant', 'Steakhouse',\n",
       "       'Cupcake Shop', 'Afghan Restaurant', 'Cocktail Bar',\n",
       "       'Fried Chicken Joint', 'Andhra Restaurant', 'Soccer Stadium',\n",
       "       'Bed & Breakfast', 'Eastern European Restaurant',\n",
       "       'Botanical Garden', 'Juice Bar', 'Mediterranean Restaurant'],\n",
       "      dtype=object)"
      ]
     },
     "execution_count": 41,
     "metadata": {},
     "output_type": "execute_result"
    }
   ],
   "source": [
    "# inspecting the raw dataset shows that there may be too many different types of cuisines\n",
    "raw_dataset['categories'].unique()"
   ]
  },
  {
   "cell_type": "code",
   "execution_count": 42,
   "metadata": {},
   "outputs": [
    {
     "data": {
      "text/html": [
       "<div>\n",
       "<style scoped>\n",
       "    .dataframe tbody tr th:only-of-type {\n",
       "        vertical-align: middle;\n",
       "    }\n",
       "\n",
       "    .dataframe tbody tr th {\n",
       "        vertical-align: top;\n",
       "    }\n",
       "\n",
       "    .dataframe thead th {\n",
       "        text-align: right;\n",
       "    }\n",
       "</style>\n",
       "<table border=\"1\" class=\"dataframe\">\n",
       "  <thead>\n",
       "    <tr style=\"text-align: right;\">\n",
       "      <th></th>\n",
       "      <th>name</th>\n",
       "      <th>categories</th>\n",
       "      <th>lat</th>\n",
       "      <th>lng</th>\n",
       "      <th>id</th>\n",
       "      <th>city</th>\n",
       "      <th>likes</th>\n",
       "      <th>categories_classified</th>\n",
       "    </tr>\n",
       "  </thead>\n",
       "  <tbody>\n",
       "    <tr>\n",
       "      <th>0</th>\n",
       "      <td>Amritsari Lassi Wala</td>\n",
       "      <td>Snack Place</td>\n",
       "      <td>28.657325</td>\n",
       "      <td>77.224138</td>\n",
       "      <td>5662936e498e19a9801a663f</td>\n",
       "      <td>Delhi</td>\n",
       "      <td>6</td>\n",
       "      <td>casual</td>\n",
       "    </tr>\n",
       "    <tr>\n",
       "      <th>1</th>\n",
       "      <td>Naturals Ice Cream</td>\n",
       "      <td>Ice Cream Shop</td>\n",
       "      <td>28.634455</td>\n",
       "      <td>77.222139</td>\n",
       "      <td>54783eab498e910f8bd1781d</td>\n",
       "      <td>Delhi</td>\n",
       "      <td>48</td>\n",
       "      <td>casual</td>\n",
       "    </tr>\n",
       "    <tr>\n",
       "      <th>2</th>\n",
       "      <td>Karim's | करीम | کریم (Karim's)</td>\n",
       "      <td>Indian Restaurant</td>\n",
       "      <td>28.649498</td>\n",
       "      <td>77.233691</td>\n",
       "      <td>4b42e3c7f964a520b5da25e3</td>\n",
       "      <td>Delhi</td>\n",
       "      <td>316</td>\n",
       "      <td>asian</td>\n",
       "    </tr>\n",
       "    <tr>\n",
       "      <th>6</th>\n",
       "      <td>Kake Di Hatti | काके दी हट्टी</td>\n",
       "      <td>Indian Restaurant</td>\n",
       "      <td>28.658050</td>\n",
       "      <td>77.223377</td>\n",
       "      <td>4d9d759348b6224b70c2249f</td>\n",
       "      <td>Delhi</td>\n",
       "      <td>34</td>\n",
       "      <td>asian</td>\n",
       "    </tr>\n",
       "    <tr>\n",
       "      <th>7</th>\n",
       "      <td>Wenger's</td>\n",
       "      <td>Bakery</td>\n",
       "      <td>28.633412</td>\n",
       "      <td>77.218292</td>\n",
       "      <td>4e4e44902271a1bdc3ccee8d</td>\n",
       "      <td>Delhi</td>\n",
       "      <td>174</td>\n",
       "      <td>casual</td>\n",
       "    </tr>\n",
       "  </tbody>\n",
       "</table>\n",
       "</div>"
      ],
      "text/plain": [
       "                              name         categories        lat        lng  \\\n",
       "0             Amritsari Lassi Wala        Snack Place  28.657325  77.224138   \n",
       "1               Naturals Ice Cream     Ice Cream Shop  28.634455  77.222139   \n",
       "2  Karim's | करीम | کریم (Karim's)  Indian Restaurant  28.649498  77.233691   \n",
       "6    Kake Di Hatti | काके दी हट्टी  Indian Restaurant  28.658050  77.223377   \n",
       "7                         Wenger's             Bakery  28.633412  77.218292   \n",
       "\n",
       "                         id   city  likes categories_classified  \n",
       "0  5662936e498e19a9801a663f  Delhi      6                casual  \n",
       "1  54783eab498e910f8bd1781d  Delhi     48                casual  \n",
       "2  4b42e3c7f964a520b5da25e3  Delhi    316                 asian  \n",
       "6  4d9d759348b6224b70c2249f  Delhi     34                 asian  \n",
       "7  4e4e44902271a1bdc3ccee8d  Delhi    174                casual  "
      ]
     },
     "execution_count": 42,
     "metadata": {},
     "output_type": "execute_result"
    }
   ],
   "source": [
    "# we can group some cuisines together to make a better categorical variable\n",
    "\n",
    "euro = ['Pizza Place','Italian Restaurant','French Restaurant']\n",
    "\n",
    "latino = ['Mexican Restaurant', 'Latin American Restaurant', \n",
    "          'Brazilian Restaurant', 'Taco Place']\n",
    "\n",
    "bar = ['Cocktail Bar','Beer Bar', 'Cocktail Bar', 'Tiki Bar', 'Wine Bar', 'Hotel Bar',\n",
    "       'Beer Garden', 'Speakeasy', 'Brewery', 'Pub', 'Bar', 'Gastropub',\n",
    "       'Hookah Bar']\n",
    "\n",
    "asian = ['Indian Restaurant','Tibetan Restaurant','Korean Restaurant','Indian Chinese Restaurant',\n",
    "       'Mughlai Restaurant', 'Chinese Restaurant', 'Thai Restaurant',\n",
    "       'Middle Eastern Restaurant','Asian Restaurant',\n",
    "       'Japanese Restaurant','Afghan Restaurant',\n",
    "       'Vietnamese Restaurant']\n",
    "\n",
    "casual = ['Snack Place',\n",
    "       'Dessert Shop','Fast Food Restaurant','Café','Coffee Shop','Food', 'Food Truck',\n",
    "       'Deli / Bodega','Diner','Sandwich Place','Vegetarian / Vegan Restaurant', 'Tea Room','Cupcake Shop',\n",
    "       'Bakery', 'Ice Cream Shop', 'Breakfast Spot','Burger Joint','Bubble Tea Shop',\n",
    "       'Fried Chicken Joint']\n",
    "\n",
    "american = ['Southern / Soul Food Restaurant', 'Food & Drink Shop', \n",
    "            'Restaurant', 'American Restaurant', 'BBQ Joint', \n",
    "            'Theme Restaurant', 'New American Restaurant',\n",
    "            'Vegetarian / Vegan Restaurant', 'Seafood Restaurant']\n",
    "\n",
    "def conditions(s):\n",
    "    if s['categories'] in euro:\n",
    "        return 'euro'\n",
    "    if s['categories'] in latino:\n",
    "        return 'latino'\n",
    "    if s['categories'] in asian:\n",
    "        return 'asian'\n",
    "    if s['categories'] in casual:\n",
    "        return 'casual'\n",
    "    if s['categories'] in american:\n",
    "        return 'american'\n",
    "    if s['categories'] in bar:\n",
    "        return 'bar'\n",
    "\n",
    "\n",
    "raw_dataset['categories_classified']=raw_dataset.apply(conditions, axis=1)\n",
    "raw_dataset.head()"
   ]
  },
  {
   "cell_type": "code",
   "execution_count": 43,
   "metadata": {},
   "outputs": [
    {
     "data": {
      "text/html": [
       "<div>\n",
       "<style scoped>\n",
       "    .dataframe tbody tr th:only-of-type {\n",
       "        vertical-align: middle;\n",
       "    }\n",
       "\n",
       "    .dataframe tbody tr th {\n",
       "        vertical-align: top;\n",
       "    }\n",
       "\n",
       "    .dataframe thead th {\n",
       "        text-align: right;\n",
       "    }\n",
       "</style>\n",
       "<table border=\"1\" class=\"dataframe\">\n",
       "  <thead>\n",
       "    <tr style=\"text-align: right;\">\n",
       "      <th>col_0</th>\n",
       "      <th>count</th>\n",
       "    </tr>\n",
       "    <tr>\n",
       "      <th>categories_classified</th>\n",
       "      <th></th>\n",
       "    </tr>\n",
       "  </thead>\n",
       "  <tbody>\n",
       "    <tr>\n",
       "      <th>american</th>\n",
       "      <td>15</td>\n",
       "    </tr>\n",
       "    <tr>\n",
       "      <th>asian</th>\n",
       "      <td>57</td>\n",
       "    </tr>\n",
       "    <tr>\n",
       "      <th>bar</th>\n",
       "      <td>3</td>\n",
       "    </tr>\n",
       "    <tr>\n",
       "      <th>casual</th>\n",
       "      <td>85</td>\n",
       "    </tr>\n",
       "    <tr>\n",
       "      <th>euro</th>\n",
       "      <td>8</td>\n",
       "    </tr>\n",
       "  </tbody>\n",
       "</table>\n",
       "</div>"
      ],
      "text/plain": [
       "col_0                  count\n",
       "categories_classified       \n",
       "american                  15\n",
       "asian                     57\n",
       "bar                        3\n",
       "casual                    85\n",
       "euro                       8"
      ]
     },
     "execution_count": 43,
     "metadata": {},
     "output_type": "execute_result"
    }
   ],
   "source": [
    "# double check to make sure categories_classified has been created correctly\n",
    "\n",
    "pd.crosstab(index=raw_dataset[\"categories_classified\"],\n",
    "            columns=\"count\")"
   ]
  },
  {
   "cell_type": "code",
   "execution_count": 44,
   "metadata": {},
   "outputs": [
    {
     "name": "stdout",
     "output_type": "stream",
     "text": [
      "13.0\n",
      "34.66\n"
     ]
    }
   ],
   "source": [
    "# classify the likes into different ranking levels\n",
    "print(np.percentile(raw_dataset['likes'], 33))\n",
    "print(np.percentile(raw_dataset['likes'], 66))"
   ]
  },
  {
   "cell_type": "code",
   "execution_count": 45,
   "metadata": {},
   "outputs": [],
   "source": [
    "def rankings(s):\n",
    "    if s['likes']<=13:\n",
    "        return 1\n",
    "    if s['likes']<=35:\n",
    "        return 2\n",
    "    if s['likes']>35:\n",
    "        return 3"
   ]
  },
  {
   "cell_type": "code",
   "execution_count": 46,
   "metadata": {},
   "outputs": [
    {
     "data": {
      "text/html": [
       "<div>\n",
       "<style scoped>\n",
       "    .dataframe tbody tr th:only-of-type {\n",
       "        vertical-align: middle;\n",
       "    }\n",
       "\n",
       "    .dataframe tbody tr th {\n",
       "        vertical-align: top;\n",
       "    }\n",
       "\n",
       "    .dataframe thead th {\n",
       "        text-align: right;\n",
       "    }\n",
       "</style>\n",
       "<table border=\"1\" class=\"dataframe\">\n",
       "  <thead>\n",
       "    <tr style=\"text-align: right;\">\n",
       "      <th></th>\n",
       "      <th>name</th>\n",
       "      <th>categories</th>\n",
       "      <th>lat</th>\n",
       "      <th>lng</th>\n",
       "      <th>id</th>\n",
       "      <th>city</th>\n",
       "      <th>likes</th>\n",
       "      <th>categories_classified</th>\n",
       "      <th>ranking</th>\n",
       "    </tr>\n",
       "  </thead>\n",
       "  <tbody>\n",
       "    <tr>\n",
       "      <th>0</th>\n",
       "      <td>Amritsari Lassi Wala</td>\n",
       "      <td>Snack Place</td>\n",
       "      <td>28.657325</td>\n",
       "      <td>77.224138</td>\n",
       "      <td>5662936e498e19a9801a663f</td>\n",
       "      <td>Delhi</td>\n",
       "      <td>6</td>\n",
       "      <td>casual</td>\n",
       "      <td>1</td>\n",
       "    </tr>\n",
       "    <tr>\n",
       "      <th>1</th>\n",
       "      <td>Naturals Ice Cream</td>\n",
       "      <td>Ice Cream Shop</td>\n",
       "      <td>28.634455</td>\n",
       "      <td>77.222139</td>\n",
       "      <td>54783eab498e910f8bd1781d</td>\n",
       "      <td>Delhi</td>\n",
       "      <td>48</td>\n",
       "      <td>casual</td>\n",
       "      <td>3</td>\n",
       "    </tr>\n",
       "    <tr>\n",
       "      <th>2</th>\n",
       "      <td>Karim's | करीम | کریم (Karim's)</td>\n",
       "      <td>Indian Restaurant</td>\n",
       "      <td>28.649498</td>\n",
       "      <td>77.233691</td>\n",
       "      <td>4b42e3c7f964a520b5da25e3</td>\n",
       "      <td>Delhi</td>\n",
       "      <td>316</td>\n",
       "      <td>asian</td>\n",
       "      <td>3</td>\n",
       "    </tr>\n",
       "    <tr>\n",
       "      <th>6</th>\n",
       "      <td>Kake Di Hatti | काके दी हट्टी</td>\n",
       "      <td>Indian Restaurant</td>\n",
       "      <td>28.658050</td>\n",
       "      <td>77.223377</td>\n",
       "      <td>4d9d759348b6224b70c2249f</td>\n",
       "      <td>Delhi</td>\n",
       "      <td>34</td>\n",
       "      <td>asian</td>\n",
       "      <td>2</td>\n",
       "    </tr>\n",
       "    <tr>\n",
       "      <th>7</th>\n",
       "      <td>Wenger's</td>\n",
       "      <td>Bakery</td>\n",
       "      <td>28.633412</td>\n",
       "      <td>77.218292</td>\n",
       "      <td>4e4e44902271a1bdc3ccee8d</td>\n",
       "      <td>Delhi</td>\n",
       "      <td>174</td>\n",
       "      <td>casual</td>\n",
       "      <td>3</td>\n",
       "    </tr>\n",
       "  </tbody>\n",
       "</table>\n",
       "</div>"
      ],
      "text/plain": [
       "                              name         categories        lat        lng  \\\n",
       "0             Amritsari Lassi Wala        Snack Place  28.657325  77.224138   \n",
       "1               Naturals Ice Cream     Ice Cream Shop  28.634455  77.222139   \n",
       "2  Karim's | करीम | کریم (Karim's)  Indian Restaurant  28.649498  77.233691   \n",
       "6    Kake Di Hatti | काके दी हट्टी  Indian Restaurant  28.658050  77.223377   \n",
       "7                         Wenger's             Bakery  28.633412  77.218292   \n",
       "\n",
       "                         id   city  likes categories_classified  ranking  \n",
       "0  5662936e498e19a9801a663f  Delhi      6                casual        1  \n",
       "1  54783eab498e910f8bd1781d  Delhi     48                casual        3  \n",
       "2  4b42e3c7f964a520b5da25e3  Delhi    316                 asian        3  \n",
       "6  4d9d759348b6224b70c2249f  Delhi     34                 asian        2  \n",
       "7  4e4e44902271a1bdc3ccee8d  Delhi    174                casual        3  "
      ]
     },
     "execution_count": 46,
     "metadata": {},
     "output_type": "execute_result"
    }
   ],
   "source": [
    "raw_dataset['ranking']=raw_dataset.apply(rankings, axis=1)\n",
    "raw_dataset.head()"
   ]
  },
  {
   "cell_type": "code",
   "execution_count": 47,
   "metadata": {},
   "outputs": [
    {
     "data": {
      "text/html": [
       "<div>\n",
       "<style scoped>\n",
       "    .dataframe tbody tr th:only-of-type {\n",
       "        vertical-align: middle;\n",
       "    }\n",
       "\n",
       "    .dataframe tbody tr th {\n",
       "        vertical-align: top;\n",
       "    }\n",
       "\n",
       "    .dataframe thead th {\n",
       "        text-align: right;\n",
       "    }\n",
       "</style>\n",
       "<table border=\"1\" class=\"dataframe\">\n",
       "  <thead>\n",
       "    <tr style=\"text-align: right;\">\n",
       "      <th></th>\n",
       "      <th>name</th>\n",
       "      <th>american</th>\n",
       "      <th>asian</th>\n",
       "      <th>bar</th>\n",
       "      <th>casual</th>\n",
       "      <th>euro</th>\n",
       "      <th>Bangalore</th>\n",
       "      <th>Delhi</th>\n",
       "      <th>Mumbai</th>\n",
       "      <th>ranking</th>\n",
       "      <th>likes</th>\n",
       "    </tr>\n",
       "  </thead>\n",
       "  <tbody>\n",
       "    <tr>\n",
       "      <th>0</th>\n",
       "      <td>Amritsari Lassi Wala</td>\n",
       "      <td>0</td>\n",
       "      <td>0</td>\n",
       "      <td>0</td>\n",
       "      <td>1</td>\n",
       "      <td>0</td>\n",
       "      <td>0</td>\n",
       "      <td>1</td>\n",
       "      <td>0</td>\n",
       "      <td>1</td>\n",
       "      <td>6</td>\n",
       "    </tr>\n",
       "    <tr>\n",
       "      <th>1</th>\n",
       "      <td>Naturals Ice Cream</td>\n",
       "      <td>0</td>\n",
       "      <td>0</td>\n",
       "      <td>0</td>\n",
       "      <td>1</td>\n",
       "      <td>0</td>\n",
       "      <td>0</td>\n",
       "      <td>1</td>\n",
       "      <td>0</td>\n",
       "      <td>3</td>\n",
       "      <td>48</td>\n",
       "    </tr>\n",
       "    <tr>\n",
       "      <th>2</th>\n",
       "      <td>Karim's | करीम | کریم (Karim's)</td>\n",
       "      <td>0</td>\n",
       "      <td>1</td>\n",
       "      <td>0</td>\n",
       "      <td>0</td>\n",
       "      <td>0</td>\n",
       "      <td>0</td>\n",
       "      <td>1</td>\n",
       "      <td>0</td>\n",
       "      <td>3</td>\n",
       "      <td>316</td>\n",
       "    </tr>\n",
       "    <tr>\n",
       "      <th>6</th>\n",
       "      <td>Kake Di Hatti | काके दी हट्टी</td>\n",
       "      <td>0</td>\n",
       "      <td>1</td>\n",
       "      <td>0</td>\n",
       "      <td>0</td>\n",
       "      <td>0</td>\n",
       "      <td>0</td>\n",
       "      <td>1</td>\n",
       "      <td>0</td>\n",
       "      <td>2</td>\n",
       "      <td>34</td>\n",
       "    </tr>\n",
       "    <tr>\n",
       "      <th>7</th>\n",
       "      <td>Wenger's</td>\n",
       "      <td>0</td>\n",
       "      <td>0</td>\n",
       "      <td>0</td>\n",
       "      <td>1</td>\n",
       "      <td>0</td>\n",
       "      <td>0</td>\n",
       "      <td>1</td>\n",
       "      <td>0</td>\n",
       "      <td>3</td>\n",
       "      <td>174</td>\n",
       "    </tr>\n",
       "  </tbody>\n",
       "</table>\n",
       "</div>"
      ],
      "text/plain": [
       "                              name  american  asian  bar  casual  euro  \\\n",
       "0             Amritsari Lassi Wala         0      0    0       1     0   \n",
       "1               Naturals Ice Cream         0      0    0       1     0   \n",
       "2  Karim's | करीम | کریم (Karim's)         0      1    0       0     0   \n",
       "6    Kake Di Hatti | काके दी हट्टी         0      1    0       0     0   \n",
       "7                         Wenger's         0      0    0       1     0   \n",
       "\n",
       "   Bangalore  Delhi  Mumbai  ranking  likes  \n",
       "0          0      1       0        1      6  \n",
       "1          0      1       0        3     48  \n",
       "2          0      1       0        3    316  \n",
       "6          0      1       0        2     34  \n",
       "7          0      1       0        3    174  "
      ]
     },
     "execution_count": 47,
     "metadata": {},
     "output_type": "execute_result"
    }
   ],
   "source": [
    "\n",
    "# create dummies for linear regression modelling\n",
    "\n",
    "# one hot encoding\n",
    "reg_dataset = pd.get_dummies(raw_dataset[['categories_classified', \n",
    "                                          'city',]], \n",
    "                               prefix=\"\", \n",
    "                               prefix_sep=\"\")\n",
    "\n",
    "# add name, ranking, and likes columns back to dataframe\n",
    "reg_dataset['ranking'] = raw_dataset['ranking']\n",
    "reg_dataset['likes'] = raw_dataset['likes']\n",
    "reg_dataset['name'] = raw_dataset['name']\n",
    "\n",
    "# move name column to the first column\n",
    "reg_columns = [reg_dataset.columns[-1]] + list(reg_dataset.columns[:-1])\n",
    "reg_dataset = reg_dataset[reg_columns]\n",
    "\n",
    "\n",
    "reg_dataset.head()"
   ]
  },
  {
   "cell_type": "markdown",
   "metadata": {},
   "source": [
    "## 3. Methodology\n",
    "To train and test the data, this project will use linear and logistic regression machine learning methods.Namely, linear regression will be used in an attempt to predict the number of \"likes\" a new restaurant in this region will have. We will utilize the Sci-Kit Learn Package to run the model. We can also utilize logisitc regression as a classification method rather than direct prediction of the number of likes. Since the number of \"likes\" can be binned into different categories based on different percentile bins, it is also potentiallly possible to see which range of \"likes\" a new restaurant in this region will have. Since the \"likes\" are binned into multiple (more than 2) categories, the type of logistic regression will be multinomial. Additionally, although the ranges are indeed discrete categories, they are also ordinal in nature. Therefore, the logistic regression will need to be specified as being both multinomial and ordinal. This can be done through the Sci-Kit Learn Package as well."
   ]
  },
  {
   "cell_type": "markdown",
   "metadata": {},
   "source": [
    "## 4.Results\n",
    "### 4.1 Linear Regression Results\n",
    "A linear regression model was trained on a random subsample of 80% of the sample and then tested on the other 20%. To see if this is a reasonable model. the residual sum of squares score and variance score were both calculated (8689 and -0.18 respectively). Given the low variance score, this is probably not a valid/good way of modelling the data. Therefore, we move on to logistic regression."
   ]
  },
  {
   "cell_type": "markdown",
   "metadata": {},
   "source": [
    "### Training and Testing"
   ]
  },
  {
   "cell_type": "code",
   "execution_count": 48,
   "metadata": {},
   "outputs": [],
   "source": [
    "def DistributionPlot(RedFunction, BlueFunction, RedName, BlueName, Title):\n",
    "    width = 12\n",
    "    height = 10\n",
    "    plt.figure(figsize=(width, height))\n",
    "\n",
    "    ax1 = sns.distplot(RedFunction, hist=False, color=\"r\", label=RedName)\n",
    "    ax2 = sns.distplot(BlueFunction, hist=False, color=\"b\", label=BlueName, ax=ax1)\n",
    "\n",
    "    plt.title(Title)\n",
    "    plt.xlabel('Parameters')\n",
    "    plt.ylabel('Likes')\n",
    "\n",
    "    plt.show()\n",
    "    plt.close()"
   ]
  },
  {
   "cell_type": "code",
   "execution_count": 49,
   "metadata": {},
   "outputs": [],
   "source": [
    "y_data=reg_dataset['likes']\n",
    "x_data=reg_dataset.drop('likes',axis=1)"
   ]
  },
  {
   "cell_type": "code",
   "execution_count": 89,
   "metadata": {},
   "outputs": [
    {
     "name": "stdout",
     "output_type": "stream",
     "text": [
      "number of test samples : 49\n",
      "number of training samples: 169\n"
     ]
    }
   ],
   "source": [
    "\n",
    "\n",
    "msk = np.random.rand(len(reg_dataset)) < 0.8\n",
    "train = reg_dataset[msk]\n",
    "test = reg_dataset[~msk]\n",
    "\n",
    "x_train = np.asanyarray(train[['american', 'asian', 'bar', 'casual',\n",
    "                         'euro','Bangalore','Delhi','Mumbai']])\n",
    "y_train = np.asanyarray(train[['likes']])\n",
    "\n",
    "x_test = np.asanyarray(test[['american', 'asian', 'bar', 'casual',\n",
    "                         'euro','Bangalore','Delhi','Mumbai']])\n",
    "\n",
    "y_test = np.asanyarray(test[['likes']])\n",
    "\n",
    "print(\"number of test samples :\", x_test.shape[0])\n",
    "print(\"number of training samples:\",x_train.shape[0])"
   ]
  },
  {
   "cell_type": "code",
   "execution_count": 90,
   "metadata": {},
   "outputs": [
    {
     "name": "stdout",
     "output_type": "stream",
     "text": [
      "Coefficients:  [[-4.77769930e+01 -2.34186247e+00 -2.64088397e+02 -3.22553597e+01\n",
      "   1.35250563e+01 -4.38640230e+16 -4.38640230e+16 -4.38640230e+16]]\n"
     ]
    }
   ],
   "source": [
    "from sklearn.linear_model import LinearRegression\n",
    "lr=LinearRegression()\n",
    "lr.fit(x_train,y_train)\n",
    "# The coefficients\n",
    "print ('Coefficients: ', lr.coef_)"
   ]
  },
  {
   "cell_type": "code",
   "execution_count": 91,
   "metadata": {},
   "outputs": [
    {
     "name": "stdout",
     "output_type": "stream",
     "text": [
      "Residual sum of squares: 8689.27\n",
      "Variance score: -0.18\n"
     ]
    }
   ],
   "source": [
    "#prediction using trained data\n",
    "yhat_train=lr.predict(x_train)\n",
    "\n",
    "#prediction using testing data\n",
    "yhat_test=lr.predict(x_test)\n",
    "\n",
    "print(\"Residual sum of squares: %.2f\"\n",
    "      % np.mean((yhat_test - y_test) ** 2))\n",
    "\n",
    "\n",
    "# Explained variance score: 1 is perfect prediction\n",
    "print('Variance score: %.2f' % lr.score(x_test, y_test))"
   ]
  },
  {
   "cell_type": "markdown",
   "metadata": {},
   "source": [
    "While analysing the distribution plot of the models we see the distribution of the predicted values is much different from the actual target values.\n",
    "Therefore when testing the model, it doesnt perform upto the mark and hence Linear Regression is not a suitable method to evaluate this model and therefor we move to Logistic Regression."
   ]
  },
  {
   "cell_type": "code",
   "execution_count": 92,
   "metadata": {},
   "outputs": [
    {
     "data": {
      "image/png": "[encoded data removed]",
      "text/plain": [
       "<Figure size 864x720 with 1 Axes>"
      ]
     },
     "metadata": {
      "needs_background": "light"
     },
     "output_type": "display_data"
    }
   ],
   "source": [
    "import matplotlib.pyplot as plt\n",
    "%matplotlib inline\n",
    "import seaborn as sns\n",
    "\n",
    "Title = 'Distribution  Plot of  Predicted Value Using Training Data vs Training Data Distribution'\n",
    "DistributionPlot(y_train, yhat_train, \"Actual Values (Train)\", \"Predicted Values (Train)\", Title)"
   ]
  },
  {
   "cell_type": "code",
   "execution_count": 101,
   "metadata": {},
   "outputs": [
    {
     "data": {
      "image/png": "[encoded data removed]",
      "text/plain": [
       "<Figure size 864x720 with 1 Axes>"
      ]
     },
     "metadata": {
      "needs_background": "light"
     },
     "output_type": "display_data"
    }
   ],
   "source": [
    "Title = 'Distribution  Plot of  Predicted Value Using Testing Data vs Testing Data Distribution'\n",
    "DistributionPlot(y_test, yhat_test, \"Actual Values (Test)\", \"Predicted Values (Test)\", Title)"
   ]
  },
  {
   "cell_type": "markdown",
   "metadata": {},
   "source": [
    "### 4.2 Logistic Regression Results\n",
    "A multinomial ordinal logisitc regression model was trained on a random subsample of 80% of the sample and then tested on the other 20%. To see if this is a reasonable model, its jaccard similarity score and log-loss were calculated (0.3673 and 1.48 respectively). Although this is not a perfect prediction, a similarity of 36.73% between the training set and test set is still a better result tahn Linear Regression. The classification report is also printed later on below.\n",
    "\n",
    "Given the modestly accurate ability of this model, we can also run the model on the full dataset. The coefficients show that opening a restaurant in Mumbai or Bangalore, serving cuisine that is american or euro in nature, are associated negatively with \"likes.\""
   ]
  },
  {
   "cell_type": "code",
   "execution_count": 102,
   "metadata": {},
   "outputs": [
    {
     "name": "stdout",
     "output_type": "stream",
     "text": [
      "[-0.22355026  0.0840169   0.14966242  0.06302541 -0.26326104 -0.26472625\n",
      "  0.36989204 -0.10516618]\n"
     ]
    }
   ],
   "source": [
    "# Multinomial Ordinal Logistic Regression\n",
    "\n",
    "x_train = np.asanyarray(train[['american', 'asian', 'bar', 'casual','euro','Bangalore','Delhi','Mumbai']])\n",
    "y_train = np.asanyarray(train['ranking'])\n",
    "\n",
    "x_test = np.asanyarray(test[['american', 'asian', 'bar', 'casual','euro','Bangalore','Delhi','Mumbai']])\n",
    "y_test = np.asanyarray(test['ranking'])\n",
    "\n",
    "\n",
    "# LR = LogisticRegression(C=0.01, solver='liblinear').fit(x_train, y_train)\n",
    "# LR\n",
    "\n",
    "mul_ordinal = linear_model.LogisticRegression(multi_class='multinomial',\n",
    "                                              solver='newton-cg',\n",
    "                                              fit_intercept=True).fit(x_train,\n",
    "                                                                      y_train)\n",
    "\n",
    "mul_ordinal\n",
    "\n",
    "coef = mul_ordinal.coef_[0]\n",
    "print (coef)"
   ]
  },
  {
   "cell_type": "code",
   "execution_count": 103,
   "metadata": {},
   "outputs": [
    {
     "data": {
      "text/plain": [
       "0.3673469387755102"
      ]
     },
     "execution_count": 103,
     "metadata": {},
     "output_type": "execute_result"
    }
   ],
   "source": [
    "# Multinomial Ordinal Logistic Regression Prediction Capabilities\n",
    "\n",
    "yhat_test = mul_ordinal.predict(x_test)\n",
    "yhat_test\n",
    "\n",
    "yhat_testprob = mul_ordinal.predict_proba(x_test)\n",
    "yhat_testprob\n",
    "\n",
    "jaccard_similarity_score(y_test, yhat_test)"
   ]
  },
  {
   "cell_type": "code",
   "execution_count": 96,
   "metadata": {},
   "outputs": [
    {
     "data": {
      "text/plain": [
       "1.1487870734093004"
      ]
     },
     "execution_count": 96,
     "metadata": {},
     "output_type": "execute_result"
    }
   ],
   "source": [
    "from sklearn.metrics import log_loss\n",
    "log_loss(y_test, yhat_testprob)"
   ]
  },
  {
   "cell_type": "code",
   "execution_count": 97,
   "metadata": {},
   "outputs": [
    {
     "name": "stdout",
     "output_type": "stream",
     "text": [
      "[-0.239176    0.0323088   0.08044169  0.01469987 -0.16563959 -0.30739497\n",
      "  0.32589514 -0.01849857]\n"
     ]
    }
   ],
   "source": [
    "# Exploration of Coefficient Magnitudes of Full Dataset\n",
    "\n",
    "x_all = np.asanyarray(reg_dataset[['american', 'asian', 'bar', 'casual',\n",
    "                                   'euro','Bangalore','Delhi','Mumbai']])\n",
    "y_all = np.asanyarray(reg_dataset['ranking'])\n",
    "\n",
    "\n",
    "\n",
    "LR = linear_model.LogisticRegression(multi_class='multinomial',\n",
    "                                            solver='newton-cg',\n",
    "                                            fit_intercept=True).fit(x_all,\n",
    "                                                                    y_all)\n",
    "\n",
    "LR\n",
    "\n",
    "coef = LR.coef_[0]\n",
    "print (coef)"
   ]
  },
  {
   "cell_type": "code",
   "execution_count": 99,
   "metadata": {},
   "outputs": [
    {
     "name": "stdout",
     "output_type": "stream",
     "text": [
      "              precision    recall  f1-score   support\n",
      "\n",
      "           1       0.50      0.33      0.40        21\n",
      "           2       0.28      0.50      0.36        14\n",
      "           3       0.40      0.29      0.33        14\n",
      "\n",
      "   micro avg       0.37      0.37      0.37        49\n",
      "   macro avg       0.39      0.37      0.36        49\n",
      "weighted avg       0.41      0.37      0.37        49\n",
      "\n"
     ]
    }
   ],
   "source": [
    "from sklearn.metrics import classification_report\n",
    "print (classification_report(y_test, yhat_test))"
   ]
  },
  {
   "cell_type": "markdown",
   "metadata": {},
   "source": [
    "## 5.Discussion\n",
    "The first thing to note is that given the data, logistic regression presents a better fit for the data over linear regression. Using logistic regression we were able to obtain a Jaccard Similarity Score of 36.73%, which although not perfect, is more reasonable than the low variance score obtained from the linear regression. As stated before, please note that for the purposes of this project, we are assumming that likes are a good proxy for how well a new restaurant will do in terms of brand, image and by extension how well the restaurant will perform business-wise. Whether or not these assumptions hold up in a real-life scenario is up for discussion, but this project does contain limitations in scope due to the amount of data that can be fetched from the FourSquare API.\n",
    "\n",
    "As such, to obtain insights into this data, we can proceed with breaking down the results of the logistic regression model. The results showed that the precision score for classifying whether the new restaurant would fall into classes 1, 2, or 3 (lowest, medium, or highest percentile of likes) were 50%, 28%, and 40%. Therefore, the model is better at predicting if a restaurant will fall into the best or worst percentile of likes. This is good as we are mostly concerned with whether the restuarant will perform well or not so the high accuracy of predictions for the two extremum is a welcome feature. This allows us to fairly accurately predict the general performance of the business opportunity. Different binning methods for the classes were attempted, but the use of 3 bins by far yielded the best Jaccard Similarity Score.\n",
    "\n",
    "Additionally, not only are we attempting to predict the general business performance but also pull insights to inform on business strategy. In this case strategy insight can be gleamed from the coefficient values from running the logistic regressin on the full dataset. As such, we can see that opening a restaurant in Mumbai or Bangalore or serving cuisine that is american or euro in nature, are associated negatively with \"likes.\" This suggests that the business opportunity should be opening a restaurant in Delhi, with a cuisine that is Asian or casual in nature, or serves as a bar would be the best approach for maximizing likes."
   ]
  },
  {
   "cell_type": "markdown",
   "metadata": {},
   "source": [
    "## 6.Conclusion\n",
    "In conclusion, after analyzing restaurant \"likes\" in India from 300 restaurants, we can conclude that the approach to best take in regards to maximizing business performance (as measured by \"likes\") is to open a restaurant that is either Asian, or casual or is a bar and that opening the venue in Delhi rather than Mumbai or Bangalore would be the best approach. Additionally, the predictive capabilities of the logistic regression prediction model are most accurate for classifying whether a restaurant will fall in either the best or worst classes when the data is binned into 3 classes."
   ]
  },
  {
   "cell_type": "code",
   "execution_count": null,
   "metadata": {},
   "outputs": [],
   "source": []
  }
 ],
 "metadata": {
  "kernelspec": {
   "display_name": "Python",
   "language": "python",
   "name": "conda-env-python-py"
  },
  "language_info": {
   "codemirror_mode": {
    "name": "ipython",
    "version": 3
   },
   "file_extension": ".py",
   "mimetype": "text/x-python",
   "name": "python",
   "nbconvert_exporter": "python",
   "pygments_lexer": "ipython3",
   "version": "3.6.11"
  }
 },
 "nbformat": 4,
 "nbformat_minor": 4
}
