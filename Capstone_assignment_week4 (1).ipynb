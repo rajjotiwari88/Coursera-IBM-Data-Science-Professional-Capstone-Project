{
 "cells": [
  {
   "cell_type": "markdown",
   "metadata": {},
   "source": [
    "# LOCATION RECOMMENDATION FOR RESTRAUNT USING FOURSQUARE API AND MACHINE LEARNING"
   ]
  },
  {
   "cell_type": "markdown",
   "metadata": {},
   "source": [
    "## 1.Introduction"
   ]
  },
  {
   "cell_type": "markdown",
   "metadata": {},
   "source": [
    "Choosing a location for your restaurant is one of just a few keys to profitability. Parking and accessibility can be as crucial to a restaurant's success as great food and service. There is a famous saying in real estate that also holds true for restaurants: \"You make your money when you buy.\"\n",
    "\n",
    "A restaurant's location influences many aspects of your operation, including the menu and style of the dining room. If you already have a certain restaurant location in mind, don’t get too attached until you know if it has all the right requirements for a successful restaurant."
   ]
  },
  {
   "cell_type": "markdown",
   "metadata": {},
   "source": [
    "The classic real estate saying “location, location, location” applies to choosing a site for a new restaurant. Location influences the success or failure of a restaurant in a host of ways, from attracting enough initial customer interest to being convenient to visit. But the restaurant’s location is also interrelated to other factors, some of which are changeable, while others are not. A great restaurant location, for instance, must have an affordable rent, or it does not matter how much foot traffic the site receives.\n",
    "\n",
    "Unfortunately, many restaurants fail within three years, and a lack of planning contributes to this hard reality. Sometimes, restaurants that would be otherwise successful go out of business because they are inaccessible or unknown to their potential customers. As might be expected, visibility and accessibility have a disproportionate effect on new restaurants that are not established yet with a core of loyal customers. Before signing a lease, restaurant owners should not get carried away with any one location until they have done their homework on the location. You must be certain that when you choose a location you are using your head as much as your heart."
   ]
  },
  {
   "cell_type": "markdown",
   "metadata": {},
   "source": [
    "We can mitigate this uncertainty through leveraging data gathered from FourSquare's API,\n",
    "specifically, we are able to scrape \"likes\" data of different restaurants directly from the API as well as\n",
    "their location and category of cuisine. The question we will try to address is, how accurately can we\n",
    "predict the amount of \"likes\" a new restaurant opening in this region can expect to have based on\n",
    "the type of cuisine it will serve and which city in it will open in. (For the purposes of this\n",
    "analysis, we will contain the geographical scope of analysis to three heavily populated cities in\n",
    "India, namely Delhi, Mumbai, and Bangalore).\n",
    "Leveraging this data will solve the problem as it allows the new business owner (or existing\n",
    "company) to make preemptive business decisions regarding opening the restaurant in terms of\n",
    "whether it is feasible to open one in this region and expect good social media presence, what type of\n",
    "cuisine and which city of three would be the best. This project will analyze and model the data via\n",
    "machine learning through comparing both linear and logistic regressions to see which method will\n",
    "yield better predictive capabilities after training and testing"
   ]
  },
  {
   "cell_type": "markdown",
   "metadata": {},
   "source": [
    "## 2.DATA"
   ]
  },
  {
   "cell_type": "markdown",
   "metadata": {},
   "source": [
    "Before we begin analysing the different cities for best location for opening a restraunt, we will first retrieve the geographical coordinates of the three cities (New Delhi, Mumbai and Bangalore). Then, we will use the FourSquare API to obtain URLs that'll fetch raw data in JSON form. We will scrape the raw data separately in these URLs in order to\n",
    "retrieve the following columns: \"name\", \"categories\", \"latitude\", \"longitude\". and \"id\" for each city. We\n",
    "can also provide another column (\"city\") to indicate which city the restaurants are from.\n"
   ]
  },
  {
   "cell_type": "markdown",
   "metadata": {},
   "source": [
    "The point to keep in mind here is that the extracts are not of every restaurant in those cities but rather all of the\n",
    "restaurants within a 5000KM range of the geographical coordinates that geolocator was able to provide. However, the extraction from the FourSquare API actually obtains venue data so it will include venues other than restaurants such as malls, stores, libraries etc. As such, this means that the data will need to be further cleaned somewhat manually by removing all of the nonrestaurant rows.\n",
    "Once this is complete, we have a shortened by cleaned list to pull \"likes\" data.The \"id\" is an important column as it will allow us to further pull the \"likes\" from the API. We can retreive the \"likes\" based on the restaurant \"id\" and then append it to the data frame. Once this is complete, we finally name the dataframe 'raw_dataset' as it is the most complete compiled form before needing any processing for analysis via machine learning."
   ]
  },
  {
   "cell_type": "markdown",
   "metadata": {},
   "source": [
    "## 2.1Preparing Data\n",
    "The data needs further processing before model training and testing.The \"categories\" column contains too\n",
    "many different types of cuisines to yield any meaningful results.All of the different\n",
    "types of cuisine could be reclassified as European, Latin American, Asian, North American, drinking\n",
    "establishments (bars), or casual establishments such as coffee shops or ice cream parlours. We can\n",
    "implement manual classification as there really aren't that many different types of cuisines.\n",
    "As this project will compare both linear and logistic regression, it makes sense to have \"likes\" as\n",
    "both a continuous and categorical (but ordinal) variable. In the case of turning into a categorical\n",
    "variable, we can bin the data based on percentiles and classify them into these ordinal percentile\n",
    "categories.As the last stage of data preparation, it is important to note that the regressors are categorical\n",
    "variables (3 different cities and 5 different categories of cuisines). Hence, they require dummy\n",
    "variable encoding for meaningful analysis. We can accomplish this via one-hot encoding.\n"
   ]
  },
  {
   "cell_type": "code",
   "execution_count": null,
   "metadata": {},
   "outputs": [],
   "source": []
  }
 ],
 "metadata": {
  "kernelspec": {
   "display_name": "Python",
   "language": "python",
   "name": "conda-env-python-py"
  },
  "language_info": {
   "codemirror_mode": {
    "name": "ipython",
    "version": 3
   },
   "file_extension": ".py",
   "mimetype": "text/x-python",
   "name": "python",
   "nbconvert_exporter": "python",
   "pygments_lexer": "ipython3",
   "version": "3.6.11"
  }
 },
 "nbformat": 4,
 "nbformat_minor": 4
}
